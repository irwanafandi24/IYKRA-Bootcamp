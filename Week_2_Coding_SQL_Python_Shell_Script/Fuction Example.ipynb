{
 "cells": [
  {
   "cell_type": "markdown",
   "metadata": {},
   "source": [
    "## Create a function that can print out our data from input forms"
   ]
  },
  {
   "cell_type": "code",
   "execution_count": 1,
   "metadata": {},
   "outputs": [],
   "source": [
    "#define the function parameter\n",
    "def introduce(name, city, date):\n",
    "    # %s, string formating\n",
    "    return(\"My name is %s, I live in %s, I was born on %s\" %(name, city, date)) "
   ]
  },
  {
   "cell_type": "code",
   "execution_count": 2,
   "metadata": {},
   "outputs": [
    {
     "name": "stdout",
     "output_type": "stream",
     "text": [
      "Input name: Mohamad Irwan Afandi\n",
      "Input address: Banyuwangi, East Java\n",
      "Input D.O.B: November 24, 1996\n",
      "\n",
      "Hai! My name is Mohamad Irwan Afandi, I live in Banyuwangi, East Java, I was born on November 24, 1996\n"
     ]
    }
   ],
   "source": [
    "name = input(\"Input name: \")\n",
    "city = input(\"Input address: \")\n",
    "date = input(\"Input D.O.B: \")\n",
    "print(\"\\nHai! \"+introduce(name, city, date)) #calling the function"
   ]
  }
 ],
 "metadata": {
  "kernelspec": {
   "display_name": "Python 3",
   "language": "python",
   "name": "python3"
  },
  "language_info": {
   "codemirror_mode": {
    "name": "ipython",
    "version": 3
   },
   "file_extension": ".py",
   "mimetype": "text/x-python",
   "name": "python",
   "nbconvert_exporter": "python",
   "pygments_lexer": "ipython3",
   "version": "3.7.6"
  }
 },
 "nbformat": 4,
 "nbformat_minor": 2
}
